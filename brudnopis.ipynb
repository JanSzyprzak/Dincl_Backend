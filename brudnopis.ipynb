{
 "cells": [
  {
   "cell_type": "code",
   "execution_count": null,
   "metadata": {},
   "outputs": [],
   "source": [
    "avg_fields = [\n",
    "            'Identyfikacja z grupą',\n",
    "            'Identyfikacja z mniejszością',\n",
    "            'Zróżnicowanie grupy',\n",
    "            'Łatwość dołączania',\n",
    "            'Sprawiedliwość zasad',\n",
    "            'Udział mniejszości w życiu',\n",
    "            'Udział mniejszości w decyzjach',\n",
    "            'Wykorzystanie potencjału mniejszości',\n",
    "            'Poczucie bezpieczeństwa osobistego',\n",
    "            'Poczucie bezpieczeństwa mniejszości'\n",
    "        ]\n"
   ]
  }
 ],
 "metadata": {
  "language_info": {
   "name": "python"
  },
  "orig_nbformat": 4
 },
 "nbformat": 4,
 "nbformat_minor": 2
}
